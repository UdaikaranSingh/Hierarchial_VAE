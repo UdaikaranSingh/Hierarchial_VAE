{
 "cells": [
  {
   "cell_type": "code",
   "execution_count": 4,
   "metadata": {},
   "outputs": [],
   "source": [
    "import torch as torch\n",
    "import torch.nn as nn\n",
    "import torch.nn.functional as F"
   ]
  },
  {
   "cell_type": "code",
   "execution_count": 35,
   "metadata": {},
   "outputs": [],
   "source": [
    "class Encoder(nn.Module):\n",
    "    \n",
    "    def __init__(self, batch_size):\n",
    "        super(Encoder, self).__init__()\n",
    "        \n",
    "        \n",
    "        #storing variables:\n",
    "        self.batch_size = batch_size;\n",
    "        \n",
    "        #architecture:\n",
    "        self.conv1 = nn.Conv2d(in_channels= 3, out_channels= 32, kernel_size= 4, stride= 2)\n",
    "        self.bn1 = nn.BatchNorm2d(num_features= 32)\n",
    "        \n",
    "        self.conv2 = nn.Conv2d(in_channels= 32, out_channels= 32, kernel_size= 4, stride= 2)\n",
    "        self.bn2 = nn.BatchNorm2d(num_features= 32)\n",
    "        \n",
    "        self.conv3 = nn.Conv2d(in_channels= 32, out_channels= 64, kernel_size= 4, stride= 2)\n",
    "        self.bn3 = nn.BatchNorm2d(num_features= 64)\n",
    "        \n",
    "        self.conv4 = nn.Conv2d(in_channels= 64, out_channels= 64, kernel_size= 4, stride= 2)\n",
    "        self.bn4 = nn.BatchNorm2d(num_features= 64)\n",
    "        \n",
    "        self.fully_connected1 = nn.Linear(in_features= 256, out_features= 256)\n",
    "        self.fully_connected2 = nn.Linear(in_features= 256, out_features= 256)\n",
    "        self.fully_connected3 = nn.Linear(in_features= 256, out_features= 20)\n",
    "        self.fully_connected4 = nn.Linear(in_features= 20, out_features= 20)\n",
    "        \n",
    "    \n",
    "    def forward(self, images):\n",
    "        #images are of shape (batch size x 3 x 64 x 64 )\n",
    "        out = F.relu(self.bn1(self.conv1(images)))\n",
    "        out = F.relu(self.bn2(self.conv2(out)))\n",
    "        out = F.relu(self.bn3(self.conv3(out)))\n",
    "        out = F.relu(self.bn4(self.conv4(out)))\n",
    "        \n",
    "        #flatten vector\n",
    "        out = out.view((self.batch_size, 256))\n",
    "        \n",
    "        #fully connected layers\n",
    "        out = F.relu(self.fully_connected1(out))\n",
    "        out = F.relu(self.fully_connected2(out))\n",
    "        out = F.relu(self.fully_connected3(out))\n",
    "        out = F.relu(self.fully_connected4(out))\n",
    "        \n",
    "        return out"
   ]
  },
  {
   "cell_type": "code",
   "execution_count": 198,
   "metadata": {},
   "outputs": [],
   "source": [
    "class Decoder(nn.Module):\n",
    "    \n",
    "    def __init__(self, batch_size):\n",
    "        super(Decoder, self).__init__()\n",
    "        \n",
    "        #storing variables\n",
    "        self.batch_size = batch_size\n",
    "        \n",
    "        #architectures\n",
    "        self.fully_connected1 = nn.Linear(in_features= 20, out_features= 256)\n",
    "        self.fully_connected2 = nn.Linear(in_features= 256, out_features= 1024)\n",
    "        \n",
    "        self.upconv1 = nn.ConvTranspose2d(in_channels= 64, out_channels= 64, kernel_size= 3, stride= 2)\n",
    "        self.bn1 = nn.BatchNorm2d(64)\n",
    "        \n",
    "        self.upconv2 = nn.ConvTranspose2d(in_channels= 64, out_channels= 32, kernel_size= 5, stride= 3)\n",
    "        self.bn2 = nn.BatchNorm2d(32)\n",
    "        \n",
    "        self.upconv3 = nn.ConvTranspose2d(in_channels= 32, out_channels= 32, kernel_size= 3, stride= 1)\n",
    "        self.bn3 = nn.BatchNorm2d(32)\n",
    "        \n",
    "        self.upconv4 = nn.ConvTranspose2d(in_channels= 32, out_channels= 3, kernel_size= 4, stride= 2)\n",
    "\n",
    "    def forward(self, z):\n",
    "        \n",
    "        #z is a vector of length (batch size x 20).\n",
    "        out = F.relu(self.fully_connected1(z))\n",
    "        out = F.tanh(self.fully_connected2(out))\n",
    "        \n",
    "        #reshape\n",
    "        out = out.view((self.batch_size, 64, 4, 4))\n",
    "        \n",
    "        #upconvolution\n",
    "        out = F.relu(self.bn1(self.upconv1(out)))\n",
    "        print(out.shape)\n",
    "        out = F.relu(self.bn2(self.upconv2(out)))\n",
    "        print(out.shape)\n",
    "        out = F.relu(self.bn3(self.upconv3(out)))\n",
    "        print(out.shape)\n",
    "        out = self.upconv4(out)\n",
    "        \n",
    "        return out\n",
    "        \n",
    "        "
   ]
  },
  {
   "cell_type": "code",
   "execution_count": 199,
   "metadata": {},
   "outputs": [],
   "source": [
    "imgs = torch.rand((16, 20))"
   ]
  },
  {
   "cell_type": "code",
   "execution_count": 200,
   "metadata": {},
   "outputs": [
    {
     "data": {
      "text/plain": [
       "torch.Size([16, 20])"
      ]
     },
     "execution_count": 200,
     "metadata": {},
     "output_type": "execute_result"
    }
   ],
   "source": [
    "imgs.shape"
   ]
  },
  {
   "cell_type": "code",
   "execution_count": 201,
   "metadata": {},
   "outputs": [],
   "source": [
    "net = Decoder(16)"
   ]
  },
  {
   "cell_type": "code",
   "execution_count": 202,
   "metadata": {},
   "outputs": [
    {
     "name": "stdout",
     "output_type": "stream",
     "text": [
      "torch.Size([16, 64, 9, 9])\n",
      "torch.Size([16, 32, 29, 29])\n",
      "torch.Size([16, 32, 31, 31])\n"
     ]
    },
    {
     "name": "stderr",
     "output_type": "stream",
     "text": [
      "/usr/local/lib/python3.6/site-packages/torch/nn/functional.py:1374: UserWarning: nn.functional.tanh is deprecated. Use torch.tanh instead.\n",
      "  warnings.warn(\"nn.functional.tanh is deprecated. Use torch.tanh instead.\")\n"
     ]
    },
    {
     "data": {
      "text/plain": [
       "torch.Size([16, 3, 64, 64])"
      ]
     },
     "execution_count": 202,
     "metadata": {},
     "output_type": "execute_result"
    }
   ],
   "source": [
    "net(imgs).shape"
   ]
  },
  {
   "cell_type": "code",
   "execution_count": 172,
   "metadata": {},
   "outputs": [
    {
     "data": {
      "text/plain": [
       "256.0"
      ]
     },
     "execution_count": 172,
     "metadata": {},
     "output_type": "execute_result"
    }
   ],
   "source": [
    "4096 / 16"
   ]
  },
  {
   "cell_type": "code",
   "execution_count": null,
   "metadata": {},
   "outputs": [],
   "source": []
  },
  {
   "cell_type": "code",
   "execution_count": null,
   "metadata": {},
   "outputs": [],
   "source": []
  }
 ],
 "metadata": {
  "kernelspec": {
   "display_name": "Python 3",
   "language": "python",
   "name": "python3"
  },
  "language_info": {
   "codemirror_mode": {
    "name": "ipython",
    "version": 3
   },
   "file_extension": ".py",
   "mimetype": "text/x-python",
   "name": "python",
   "nbconvert_exporter": "python",
   "pygments_lexer": "ipython3",
   "version": "3.6.5"
  }
 },
 "nbformat": 4,
 "nbformat_minor": 2
}
